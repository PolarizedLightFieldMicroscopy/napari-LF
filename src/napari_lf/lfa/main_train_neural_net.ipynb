{
 "cells": [
  {
   "cell_type": "markdown",
   "metadata": {},
   "source": [
    "# Neural network training for Napari-LF\n",
    "\n",
    "Napari-LF neural net integration relies on Pytorch-lightning workflow. Which provides general functions for loading data, training, inference, etc. That can be used with any neural network.\n",
    "This script is intended for preparing a network to use with Napari-LF.\n",
    "\n",
    "## Instructions\n",
    "1. Import required libraries and desired network to train.\n",
    "2. Gather needed information from user\n",
    "3. Create a network.\n",
    "4. Load data for training.\n",
    "5. Train network.\n",
    "6. Store network in napari-LF compatible format"
   ]
  },
  {
   "cell_type": "markdown",
   "metadata": {},
   "source": [
    "### 1. Import required libraries and desired network to train."
   ]
  },
  {
   "cell_type": "code",
   "execution_count": 1,
   "metadata": {},
   "outputs": [],
   "source": [
    "import pytorch_lightning as pl\n",
    "import torch\n",
    "# Let's train a VCDNet. This defines which network we will train\n",
    "# from neural_nets.VCDNet import VCDNet as NN\n",
    "# Or:\n",
    "from neural_nets.LFMNet import LFMNet as NN"
   ]
  },
  {
   "cell_type": "markdown",
   "metadata": {},
   "source": [
    "### 2. Gather needed information from user"
   ]
  },
  {
   "cell_type": "code",
   "execution_count": 2,
   "metadata": {},
   "outputs": [],
   "source": [
    "n_gpus = 1\n",
    "# What is the shape of our Light-field [angular-u, angular-v, spatial-s, spatial-t]\n",
    "LFshape = [33,33,39,39]     # For the case of the MouseBrain dataset\n",
    "LF_2D_shape = [LFshape[0]*LFshape[2], LFshape[1]*LFshape[3]]\n",
    "# How many depths are present in each volume?\n",
    "n_depths = 64\n",
    "\n",
    "# Define training parameters\n",
    "training_settings = {}\n",
    "# Learning rate\n",
    "training_settings['lr'] = 1e-3    \n",
    "# Batch size              \n",
    "training_settings['batch_size'] = 2  \n",
    "# max epochs to train        \n",
    "training_settings['epochs'] = 1\n",
    "# Which image-volume pairs to use\n",
    "training_settings['images_ids'] = list(range(10))                                               \n",
    "# Where is the data\n",
    "training_settings['dataset_path'] = 'D:/BrainImagesJosuePage/Brain_40x_64Depths_362imgs.h5'    \n",
    "# Where to store the trained network?\n",
    "training_settings['output_dir'] = 'C:/Users/OldenbourgLab2/Code/napari-LF-neural_nets/examples/pretrained_networks/'    # If left blank the logs and trained network are stored at ./lightning_logs/version_*"
   ]
  },
  {
   "cell_type": "markdown",
   "metadata": {},
   "source": [
    "### 3. Create a network"
   ]
  },
  {
   "cell_type": "code",
   "execution_count": 3,
   "metadata": {},
   "outputs": [],
   "source": [
    "net = NN(LF_2D_shape, (n_depths,)+tuple(LF_2D_shape), \n",
    "         network_settings_dict={'LFshape' : LFshape}, \n",
    "         training_settings_dict=training_settings)"
   ]
  },
  {
   "cell_type": "markdown",
   "metadata": {},
   "source": [
    "### 4. Load data for training."
   ]
  },
  {
   "cell_type": "code",
   "execution_count": 4,
   "metadata": {},
   "outputs": [
    {
     "name": "stderr",
     "output_type": "stream",
     "text": [
      "Loading images: 100%|██████████| 10/10 [00:06<00:00,  1.52it/s]\n"
     ]
    }
   ],
   "source": [
    "net.configure_dataloader()"
   ]
  },
  {
   "cell_type": "markdown",
   "metadata": {},
   "source": [
    "### 5. Train network."
   ]
  },
  {
   "cell_type": "code",
   "execution_count": 5,
   "metadata": {},
   "outputs": [
    {
     "name": "stderr",
     "output_type": "stream",
     "text": [
      "c:\\Users\\OldenbourgLab2\\anaconda3\\envs\\napari-new\\lib\\site-packages\\pytorch_lightning\\trainer\\connectors\\accelerator_connector.py:447: LightningDeprecationWarning: Setting `Trainer(gpus=1)` is deprecated in v1.7 and will be removed in v2.0. Please use `Trainer(accelerator='gpu', devices=1)` instead.\n",
      "  rank_zero_deprecation(\n",
      "GPU available: True (cuda), used: True\n",
      "TPU available: False, using: 0 TPU cores\n",
      "IPU available: False, using: 0 IPUs\n",
      "HPU available: False, using: 0 HPUs\n",
      "LOCAL_RANK: 0 - CUDA_VISIBLE_DEVICES: [0]\n",
      "\n",
      "  | Name               | Type       | Params\n",
      "--------------------------------------------------\n",
      "0 | lensletConvolution | Sequential | 46.7 K\n",
      "1 | Unet               | UNetLF     | 29.2 K\n",
      "--------------------------------------------------\n",
      "75.9 K    Trainable params\n",
      "0         Non-trainable params\n",
      "75.9 K    Total params\n",
      "0.304     Total estimated model params size (MB)\n"
     ]
    },
    {
     "name": "stdout",
     "output_type": "stream",
     "text": [
      "###################### Logging to: C:/Users/OldenbourgLab2/Code/napari-LF-neural_nets/examples/pretrained_networks//LFMNet\n",
      "run tensorboard --logdir=C:/Users/OldenbourgLab2/Code/napari-LF-neural_nets/examples/pretrained_networks//LFMNet in the console\n"
     ]
    },
    {
     "data": {
      "application/vnd.jupyter.widget-view+json": {
       "model_id": "a3de9aa2939f40c9bb1318efd2fd2d22",
       "version_major": 2,
       "version_minor": 0
      },
      "text/plain": [
       "Sanity Checking: 0it [00:00, ?it/s]"
      ]
     },
     "metadata": {},
     "output_type": "display_data"
    },
    {
     "name": "stderr",
     "output_type": "stream",
     "text": [
      "c:\\Users\\OldenbourgLab2\\anaconda3\\envs\\napari-new\\lib\\site-packages\\pytorch_lightning\\trainer\\connectors\\data_connector.py:236: PossibleUserWarning: The dataloader, val_dataloader 0, does not have many workers which may be a bottleneck. Consider increasing the value of the `num_workers` argument` (try 16 which is the number of cpus on this machine) in the `DataLoader` init to improve performance.\n",
      "  rank_zero_warn(\n",
      "c:\\Users\\OldenbourgLab2\\anaconda3\\envs\\napari-new\\lib\\site-packages\\pytorch_lightning\\trainer\\connectors\\data_connector.py:236: PossibleUserWarning: The dataloader, train_dataloader, does not have many workers which may be a bottleneck. Consider increasing the value of the `num_workers` argument` (try 16 which is the number of cpus on this machine) in the `DataLoader` init to improve performance.\n",
      "  rank_zero_warn(\n",
      "c:\\Users\\OldenbourgLab2\\anaconda3\\envs\\napari-new\\lib\\site-packages\\pytorch_lightning\\trainer\\trainer.py:1892: PossibleUserWarning: The number of training batches (5) is smaller than the logging interval Trainer(log_every_n_steps=50). Set a lower value for log_every_n_steps if you want to see logs for the training epoch.\n",
      "  rank_zero_warn(\n"
     ]
    },
    {
     "data": {
      "application/vnd.jupyter.widget-view+json": {
       "model_id": "11e4af25684c42db981487da9bb1437e",
       "version_major": 2,
       "version_minor": 0
      },
      "text/plain": [
       "Training: 0it [00:00, ?it/s]"
      ]
     },
     "metadata": {},
     "output_type": "display_data"
    },
    {
     "data": {
      "application/vnd.jupyter.widget-view+json": {
       "model_id": "cfd81220a9124085abc940119f0ed75a",
       "version_major": 2,
       "version_minor": 0
      },
      "text/plain": [
       "Validation: 0it [00:00, ?it/s]"
      ]
     },
     "metadata": {},
     "output_type": "display_data"
    },
    {
     "name": "stderr",
     "output_type": "stream",
     "text": [
      "`Trainer.fit` stopped: `max_epochs=1` reached.\n"
     ]
    },
    {
     "name": "stdout",
     "output_type": "stream",
     "text": [
      "###################### Logging to: C:/Users/OldenbourgLab2/Code/napari-LF-neural_nets/examples/pretrained_networks//LFMNet\n",
      "run tensorboard --logdir=C:/Users/OldenbourgLab2/Code/napari-LF-neural_nets/examples/pretrained_networks//LFMNet in the console\n"
     ]
    }
   ],
   "source": [
    "# Do we log to the default directory? or to a specified one \n",
    "tb_logger = True\n",
    "if len(training_settings['output_dir']) > 0: # Do we have a path for the logging?\n",
    "    # Define network type\n",
    "    network_prefix = net.__class__.__name__\n",
    "    from pytorch_lightning import loggers as pl_loggers\n",
    "    tb_logger = pl_loggers.TensorBoardLogger(save_dir=f\"{training_settings['output_dir']}/\", name=network_prefix)\n",
    "    output_path = f\"{training_settings['output_dir']}/{network_prefix}\"\n",
    "    # Create a trainer\n",
    "    trainer = pl.Trainer(logger=tb_logger, gpus=n_gpus, precision=32, max_epochs=net.get_train_setting('epochs'))\n",
    "else:\n",
    "    # Create a trainer\n",
    "    trainer = pl.Trainer(logger=tb_logger, gpus=n_gpus, precision=32, max_epochs=net.get_train_setting('epochs'))\n",
    "    output_path = './lightning_logs/'\n",
    "    \n",
    "\n",
    "print(f'###################### Logging to: {output_path}')\n",
    "print(f'run tensorboard --logdir={output_path} in the console')\n",
    "trainer.fit(model=net, train_dataloaders=net.train_loader, val_dataloaders=net.val_loader)\n",
    "print(f'###################### Logging to: {output_path}')\n",
    "print(f'run tensorboard --logdir={output_path} in the console')\n"
   ]
  }
 ],
 "metadata": {
  "kernelspec": {
   "display_name": "Python 3.9.13 64-bit ('napari-new': conda)",
   "language": "python",
   "name": "python3"
  },
  "language_info": {
   "codemirror_mode": {
    "name": "ipython",
    "version": 3
   },
   "file_extension": ".py",
   "mimetype": "text/x-python",
   "name": "python",
   "nbconvert_exporter": "python",
   "pygments_lexer": "ipython3",
   "version": "3.9.13"
  },
  "orig_nbformat": 4,
  "vscode": {
   "interpreter": {
    "hash": "adefa1ab0f692421d76c5f439f08fdb2194ecaa0be285eca5571b46bfcc0e371"
   }
  }
 },
 "nbformat": 4,
 "nbformat_minor": 2
}
