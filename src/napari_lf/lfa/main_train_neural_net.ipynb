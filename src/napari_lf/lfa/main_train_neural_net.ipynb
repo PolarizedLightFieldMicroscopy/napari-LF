{
 "cells": [
  {
   "cell_type": "markdown",
   "metadata": {},
   "source": [
    "# Neural network training for Napari-LF\n",
    "\n",
    "Napari-LF neural net integration relies on Pytorch-lightning workflow. Which provides general functions for loading data, training, inference, etc. That can be used with any neural network.\n",
    "This script is intended for preparing a network to use with Napari-LF.\n",
    "\n",
    "## Instructions\n",
    "1. Import required libraries and desired network to train.\n",
    "2. Gather needed information from user\n",
    "3. Create a network.\n",
    "4. Load data for training.\n",
    "5. Train network.\n",
    "6. Store network in napari-LF compatible format"
   ]
  },
  {
   "cell_type": "markdown",
   "metadata": {},
   "source": [
    "### 1. Import required libraries and desired network to train."
   ]
  },
  {
   "cell_type": "code",
   "execution_count": 1,
   "metadata": {},
   "outputs": [],
   "source": [
    "import pytorch_lightning as pl\n",
    "import torch\n",
    "# Let's train a VCDNet. This defines which network we will train\n",
    "from neural_nets.VCDNet import VCDNet as NN\n",
    "# Or:\n",
    "# from neural_nets.LFMNet import LFMNet as NN"
   ]
  },
  {
   "cell_type": "markdown",
   "metadata": {},
   "source": [
    "### 2. Gather needed information from user"
   ]
  },
  {
   "cell_type": "code",
   "execution_count": 2,
   "metadata": {},
   "outputs": [],
   "source": [
    "n_gpus = 1\n",
    "# What is the shape of our Light-field [angular-u, angular-v, spatial-s, spatial-t]\n",
    "LFshape = [33,33,39,39]     # For the case of the MouseBrain dataset\n",
    "LF_2D_shape = [LFshape[0]*LFshape[2], LFshape[1]*LFshape[3]]\n",
    "# How many depths are present in each volume?\n",
    "n_depths = 64\n",
    "\n",
    "# Define training parameters\n",
    "training_settings = {}\n",
    "# Learning rate\n",
    "training_settings['lr'] = 1e-3    \n",
    "# Batch size              \n",
    "training_settings['batch_size'] = 2  \n",
    "# max epochs to train        \n",
    "training_settings['epochs'] = 1\n",
    "# Which image-volume pairs to use\n",
    "training_settings['images_ids'] = list(range(10))                                               \n",
    "# Where is the data\n",
    "training_settings['dataset_path'] = 'D:/BrainImagesJosuePage/Brain_40x_64Depths_362imgs.h5'    \n",
    "# Where to store the trained network?\n",
    "training_settings['output_dir'] = 'C:/Users/OldenbourgLab2/Code/napari-LF-neural_nets/examples/pretrained_networks/'    # If left blank the logs and trained network are stored at ./lightning_logs/version_*"
   ]
  },
  {
   "cell_type": "markdown",
   "metadata": {},
   "source": [
    "### 3. Create a network"
   ]
  },
  {
   "cell_type": "code",
   "execution_count": 3,
   "metadata": {},
   "outputs": [],
   "source": [
    "net = NN(LF_2D_shape, (n_depths,)+tuple(LF_2D_shape), \n",
    "         network_settings_dict={'LFshape' : LFshape}, \n",
    "         training_settings_dict=training_settings)"
   ]
  },
  {
   "cell_type": "markdown",
   "metadata": {},
   "source": [
    "### 4. Load data for training."
   ]
  },
  {
   "cell_type": "code",
   "execution_count": 4,
   "metadata": {},
   "outputs": [
    {
     "name": "stderr",
     "output_type": "stream",
     "text": [
      "Loading images: 100%|██████████| 10/10 [00:06<00:00,  1.50it/s]\n"
     ]
    }
   ],
   "source": [
    "net.configure_dataloader()"
   ]
  },
  {
   "cell_type": "markdown",
   "metadata": {},
   "source": [
    "### 5. Train network."
   ]
  },
  {
   "cell_type": "code",
   "execution_count": 5,
   "metadata": {},
   "outputs": [
    {
     "name": "stderr",
     "output_type": "stream",
     "text": [
      "c:\\Users\\OldenbourgLab2\\anaconda3\\envs\\napari-new\\lib\\site-packages\\pytorch_lightning\\trainer\\connectors\\accelerator_connector.py:447: LightningDeprecationWarning: Setting `Trainer(gpus=1)` is deprecated in v1.7 and will be removed in v2.0. Please use `Trainer(accelerator='gpu', devices=1)` instead.\n",
      "  rank_zero_deprecation(\n",
      "GPU available: True (cuda), used: True\n",
      "TPU available: False, using: 0 TPU cores\n",
      "IPU available: False, using: 0 IPUs\n",
      "HPU available: False, using: 0 HPUs\n"
     ]
    },
    {
     "name": "stdout",
     "output_type": "stream",
     "text": [
      "###################### Logging to: C:/Users/OldenbourgLab2/Code/napari-LF-neural_nets/examples/pretrained_networks//VCDNet\n",
      "run tensorboard --logdir=C:/Users/OldenbourgLab2/Code/napari-LF-neural_nets/examples/pretrained_networks//VCDNet in the console\n"
     ]
    },
    {
     "name": "stderr",
     "output_type": "stream",
     "text": [
      "LOCAL_RANK: 0 - CUDA_VISIBLE_DEVICES: [0]\n",
      "\n",
      "  | Name           | Type       | Params\n",
      "----------------------------------------------\n",
      "0 | net_upsample   | Sequential | 6.9 M \n",
      "1 | encoder_layers | Sequential | 3.9 M \n",
      "2 | decoder_layers | Sequential | 9.4 M \n",
      "----------------------------------------------\n",
      "20.2 M    Trainable params\n",
      "0         Non-trainable params\n",
      "20.2 M    Total params\n",
      "80.707    Total estimated model params size (MB)\n"
     ]
    },
    {
     "data": {
      "application/vnd.jupyter.widget-view+json": {
       "model_id": "425157746a2444a8975bc09d514d5cc4",
       "version_major": 2,
       "version_minor": 0
      },
      "text/plain": [
       "Sanity Checking: 0it [00:00, ?it/s]"
      ]
     },
     "metadata": {},
     "output_type": "display_data"
    },
    {
     "name": "stderr",
     "output_type": "stream",
     "text": [
      "c:\\Users\\OldenbourgLab2\\anaconda3\\envs\\napari-new\\lib\\site-packages\\pytorch_lightning\\trainer\\connectors\\data_connector.py:236: PossibleUserWarning: The dataloader, val_dataloader 0, does not have many workers which may be a bottleneck. Consider increasing the value of the `num_workers` argument` (try 16 which is the number of cpus on this machine) in the `DataLoader` init to improve performance.\n",
      "  rank_zero_warn(\n",
      "c:\\Users\\OldenbourgLab2\\anaconda3\\envs\\napari-new\\lib\\site-packages\\pytorch_lightning\\trainer\\connectors\\data_connector.py:236: PossibleUserWarning: The dataloader, train_dataloader, does not have many workers which may be a bottleneck. Consider increasing the value of the `num_workers` argument` (try 16 which is the number of cpus on this machine) in the `DataLoader` init to improve performance.\n",
      "  rank_zero_warn(\n",
      "c:\\Users\\OldenbourgLab2\\anaconda3\\envs\\napari-new\\lib\\site-packages\\pytorch_lightning\\trainer\\trainer.py:1892: PossibleUserWarning: The number of training batches (5) is smaller than the logging interval Trainer(log_every_n_steps=50). Set a lower value for log_every_n_steps if you want to see logs for the training epoch.\n",
      "  rank_zero_warn(\n"
     ]
    },
    {
     "data": {
      "application/vnd.jupyter.widget-view+json": {
       "model_id": "aa4058220fd647049f9a847eb12f125d",
       "version_major": 2,
       "version_minor": 0
      },
      "text/plain": [
       "Training: 0it [00:00, ?it/s]"
      ]
     },
     "metadata": {},
     "output_type": "display_data"
    },
    {
     "data": {
      "application/vnd.jupyter.widget-view+json": {
       "model_id": "278009e6bd9f4a6682d0d05d4bbbb4c8",
       "version_major": 2,
       "version_minor": 0
      },
      "text/plain": [
       "Validation: 0it [00:00, ?it/s]"
      ]
     },
     "metadata": {},
     "output_type": "display_data"
    },
    {
     "name": "stderr",
     "output_type": "stream",
     "text": [
      "`Trainer.fit` stopped: `max_epochs=1` reached.\n"
     ]
    },
    {
     "name": "stdout",
     "output_type": "stream",
     "text": [
      "###################### Logging to: C:/Users/OldenbourgLab2/Code/napari-LF-neural_nets/examples/pretrained_networks//VCDNet\n",
      "run tensorboard --logdir=C:/Users/OldenbourgLab2/Code/napari-LF-neural_nets/examples/pretrained_networks//VCDNet in the console\n"
     ]
    }
   ],
   "source": [
    "# Do we log to the default directory? or to a specified one \n",
    "tb_logger = True\n",
    "if len(training_settings['output_dir']) > 0: # Do we have a path for the logging?\n",
    "    # Define network type\n",
    "    network_prefix = net.__class__.__name__\n",
    "    from pytorch_lightning import loggers as pl_loggers\n",
    "    tb_logger = pl_loggers.TensorBoardLogger(save_dir=f\"{training_settings['output_dir']}/\", name=network_prefix)\n",
    "    output_path = f\"{training_settings['output_dir']}/{network_prefix}\"\n",
    "    # Create a trainer\n",
    "    trainer = pl.Trainer(logger=tb_logger, gpus=n_gpus, precision=32, max_epochs=net.get_train_setting('epochs'))\n",
    "else:\n",
    "    # Create a trainer\n",
    "    trainer = pl.Trainer(logger=tb_logger, gpus=n_gpus, precision=32, max_epochs=net.get_train_setting('epochs'))\n",
    "    output_path = './lightning_logs/'\n",
    "    \n",
    "\n",
    "print(f'###################### Logging to: {output_path}')\n",
    "print(f'run tensorboard --logdir={output_path} in the console')\n",
    "trainer.fit(model=net, train_dataloaders=net.train_loader, val_dataloaders=net.val_loader)\n",
    "print(f'###################### Logging to: {output_path}')\n",
    "print(f'run tensorboard --logdir={output_path} in the console')\n"
   ]
  }
 ],
 "metadata": {
  "kernelspec": {
   "display_name": "Python 3.9.13 64-bit ('napari-new': conda)",
   "language": "python",
   "name": "python3"
  },
  "language_info": {
   "codemirror_mode": {
    "name": "ipython",
    "version": 3
   },
   "file_extension": ".py",
   "mimetype": "text/x-python",
   "name": "python",
   "nbconvert_exporter": "python",
   "pygments_lexer": "ipython3",
   "version": "3.9.13"
  },
  "orig_nbformat": 4,
  "vscode": {
   "interpreter": {
    "hash": "adefa1ab0f692421d76c5f439f08fdb2194ecaa0be285eca5571b46bfcc0e371"
   }
  }
 },
 "nbformat": 4,
 "nbformat_minor": 2
}
