{
 "cells": [
  {
   "cell_type": "markdown",
   "metadata": {},
   "source": [
    "# Light-Field Microscopy forward projector \n",
    "### This script's intension is to provide an easy Light-Field microscopy forward projection.\n",
    "## Usage:\n",
    "* Create a .lfc calibration file containing the LF PSFs with napari-LF\n",
    "    * Open napari-LF and select an empty project directory or the provided directory.\n",
    "    * Set the calibration parameters and hit calibrate, this will create a metadata.txt file, which you need to modify.\n",
    "    * In metadata.txt: set \"synthetic_lf\": true, \"skip_alignment\": true, \"skip_subpixel_alignment\": true\n",
    "    * And specify:  \"num_slices\": 3, \"um_per_slice\": 1.0, \"supersample\": 33, along all the parameters of your microscope.\n",
    "    * Then click calibrate, which will generate your PSF inide a .lfc file"
   ]
  },
  {
   "cell_type": "code",
   "execution_count": 1,
   "metadata": {},
   "outputs": [],
   "source": [
    "## library imports and helper functions\n",
    "import numpy as np\n",
    "import os\n",
    "import subprocess\n",
    "import time\n",
    "import tempfile\n",
    "import argparse\n",
    "import sys\n",
    "import matplotlib.pyplot as plt\n",
    "import torch\n",
    "import torch.nn.functional as F\n",
    "# lflib imports\n",
    "import lflib\n",
    "from lflib.imageio import load_image, save_image\n",
    "from lflib.lightfield import LightField\n",
    "from lflib.calibration import LightFieldCalibration\n",
    "from lflib.util import ensure_path\n",
    "from lflib.volume import LightFieldProjection\n",
    "from lflib.linear_operators import LightFieldOperator\n",
    "import lfdeconvolve\n",
    "\n",
    "def interpolate(img, new_shape):\n",
    "    img = torch.from_numpy(img).unsqueeze(0).unsqueeze(0)\n",
    "    try:\n",
    "        img = F.interpolate(img.float(), new_shape, mode='trilinear')\n",
    "    except:\n",
    "        img = F.interpolate(img.float(), new_shape)\n",
    "    return img[0,0,...].numpy()\n",
    "\n",
    "def MIP(vol, scaling_factors=[1,1,1]):\n",
    "    vol_size = list(vol.shape)\n",
    "    vol_size = [int(vol.shape[i] * scaling_factors[i]) for i in range(len(scaling_factors))]\n",
    "    print(vol_size)\n",
    "    x_projection = np.amax(vol, 1)\n",
    "    y_projection = np.amax(vol, 0)\n",
    "    z_projection = np.amax(vol, 2)\n",
    "\n",
    "    out_img = z_projection.min() * np.ones(\n",
    "        (vol_size[0]+vol_size[2], vol_size[1]+vol_size[2])\n",
    "    )\n",
    "    out_img[:vol_size[0], : vol_size[1]] = interpolate(z_projection, vol_size[0:2])\n",
    "    proj = interpolate(x_projection, [vol_size[1],vol_size[2]])\n",
    "    out_img[:vol_size[0], vol_size[1]:] = proj\n",
    "    print(f'xproj {proj.shape}')\n",
    "    proj = interpolate(y_projection, [vol_size[0],vol_size[2]])\n",
    "    print(f'yproj {proj.shape}')\n",
    "    out_img[vol_size[0]:, :vol_size[1]] = proj.transpose(1,0)\n",
    "\n",
    "    line_color = out_img.max()\n",
    "    # Draw white lines\n",
    "    out_img[:, vol_size[1]] = line_color\n",
    "    out_img[vol_size[0],:] = line_color\n",
    "    return out_img\n"
   ]
  },
  {
   "cell_type": "markdown",
   "metadata": {},
   "source": [
    "### Define project path and load .lfc file containing PSF's computed in Napari-LF"
   ]
  },
  {
   "cell_type": "code",
   "execution_count": 2,
   "metadata": {},
   "outputs": [
    {
     "name": "stdout",
     "output_type": "stream",
     "text": [
      "\t    Using wave optic psf db.\n",
      "===========================================================================\n",
      "platform id:  0  | platform:  <pyopencl.Platform 'NVIDIA CUDA' at 0x15880727db0>\n",
      "device:  <pyopencl.Device 'NVIDIA RTX A5000' on 'NVIDIA CUDA' at 0x15880727e00>\n",
      "===========================================================================\n",
      "Using single precision option (--use-single-precision)\n"
     ]
    }
   ],
   "source": [
    "# Inputs #########################################################################################\n",
    "# Simulated GUV\n",
    "# project_path = 'C:/Users/OldenbourgLab2/Code/napari-LF-develop/docs/GUV_Rudolfs_settings/'\n",
    "project_path = 'C:/Users/OldenbourgLab2/Documents/GitHub/napari-LF-docs-samples/GUVSimul1/'\n",
    "calibration_path = f'{project_path}/Calibration_GUVSimul1-104-43-SS3.lfc'\n",
    "\n",
    "#########################################################################################\n",
    "# Load the calibration data\n",
    "lfcal = LightFieldCalibration.load(calibration_path)\n",
    "\n",
    "if lfcal.psf_db is not None:\n",
    "    print('\\t    Using wave optic psf db.')\n",
    "    db = lfcal.psf_db\n",
    "else:\n",
    "    print('\\t    Using rayspread db.')\n",
    "    db = lfcal.rayspread_db\n",
    "\n",
    "# Create a LFprojection object\n",
    "lfproj = LightFieldProjection(lfcal.rayspread_db, lfcal.psf_db,\n",
    "                                disable_gpu = False, gpu_id = 0, platform_id = 0, use_sing_prec=True)\n",
    "# Gather some dimensional information stored in the calibration file\n",
    "nrays = db.ns*db.nu*db.nt*db.nv\n",
    "nvoxels = db.nx*db.ny*db.nz\n",
    "# Create LF linear operator, which allows for forward/backward projection\n",
    "A_lfop = LightFieldOperator(lfproj, db, True)\n",
    "A_operator = A_lfop.as_linear_operator(nrays, nvoxels)"
   ]
  },
  {
   "cell_type": "markdown",
   "metadata": {},
   "source": [
    "### Extract PSFs"
   ]
  },
  {
   "cell_type": "code",
   "execution_count": 5,
   "metadata": {},
   "outputs": [
    {
     "name": "stderr",
     "output_type": "stream",
     "text": [
      "100%|████████████████████████████████████████████████████████████████████████████████████| 1/1 [00:03<00:00,  3.25s/it]\n"
     ]
    },
    {
     "name": "stdout",
     "output_type": "stream",
     "text": [
      "[416, 416, 104]\n",
      "xproj (416, 104)\n",
      "yproj (416, 104)\n"
     ]
    },
    {
     "data": {
      "image/png": "[encoded data removed]",
      "text/plain": [
       "<Figure size 640x480 with 1 Axes>"
      ]
     },
     "metadata": {},
     "output_type": "display_data"
    }
   ],
   "source": [
    "# Extract psf of coords relative to the center of the image\n",
    "coord_x,coord_y = 1,1\n",
    "# all the depths?\n",
    "depths_to_extract = list(range(db.nz))\n",
    "# or just some of them?\n",
    "depths_to_extract = [db.nz//2]\n",
    "\n",
    "\n",
    "from tqdm import tqdm\n",
    "volume = np.zeros((db.ny, db.nx, db.nz))\n",
    "mid_volume = [db.ny//2,db.nx//2]\n",
    "# Define output volume\n",
    "psf_out = np.zeros((db.nu*db.ns,db.nv*db.nt,db.nz))\n",
    "for nz in tqdm(depths_to_extract):\n",
    "    volume *= 0\n",
    "    volume[mid_volume[0]+coord_y, mid_volume[1]+coord_x, nz] = 1\n",
    "    image_vec = A_operator.matvec(volume.reshape(db.nvoxels))\n",
    "    # Reshape result\n",
    "    image_views_2D = np.reshape(image_vec, (db.nu*db.ns, db.nv*db.nt))\n",
    "    lf = LightField(image_views_2D, db.nu, db.nv, db.ns, db.nt,\n",
    "                            representation = LightField.TILED_SUBAPERTURE)\n",
    "    # Generate LF image\n",
    "    psf = lf.asimage(representation = LightField.TILED_LENSLET)\n",
    "    psf_out[:,:,nz] = psf\n",
    "\n",
    "plt.imshow(MIP(psf_out),cmap='gray')\n",
    "save_image(f'{project_path}/psf_stack_tmp.tif', psf_out, dtype=np.float32)\n"
   ]
  },
  {
   "cell_type": "code",
   "execution_count": 7,
   "metadata": {},
   "outputs": [
    {
     "name": "stdout",
     "output_type": "stream",
     "text": [
      "\texpected volume dimensions: (78,78,104)   current volume dimensions: (79, 79, 104)\n",
      "\tLF shape (16,16) (26,26)\n",
      "Forward projecting volume\n"
     ]
    },
    {
     "ename": "ValueError",
     "evalue": "cannot reshape array of size 649064 into shape (632736,)",
     "output_type": "error",
     "traceback": [
      "\u001b[1;31m---------------------------------------------------------------------------\u001b[0m",
      "\u001b[1;31mValueError\u001b[0m                                Traceback (most recent call last)",
      "Cell \u001b[1;32mIn [7], line 26\u001b[0m\n\u001b[0;32m     24\u001b[0m \u001b[38;5;28mprint\u001b[39m(\u001b[38;5;124m'\u001b[39m\u001b[38;5;124mForward projecting volume\u001b[39m\u001b[38;5;124m'\u001b[39m)\n\u001b[0;32m     25\u001b[0m \u001b[38;5;66;03m# And forward project\u001b[39;00m\n\u001b[1;32m---> 26\u001b[0m volume_vec \u001b[38;5;241m=\u001b[39m \u001b[43mvolume\u001b[49m\u001b[38;5;241;43m.\u001b[39;49m\u001b[43mreshape\u001b[49m\u001b[43m(\u001b[49m\u001b[43mdb\u001b[49m\u001b[38;5;241;43m.\u001b[39;49m\u001b[43mnvoxels\u001b[49m\u001b[43m)\u001b[49m\n\u001b[0;32m     27\u001b[0m image_vec \u001b[38;5;241m=\u001b[39m A_operator\u001b[38;5;241m.\u001b[39mmatvec(volume_vec)\n\u001b[0;32m     29\u001b[0m \u001b[38;5;66;03m# Reshape result\u001b[39;00m\n",
      "\u001b[1;31mValueError\u001b[0m: cannot reshape array of size 649064 into shape (632736,)"
     ]
    }
   ],
   "source": [
    "# Create a volume\n",
    "volume = np.zeros((db.ny, db.nx, db.nz))\n",
    "# Or load a volume\n",
    "volume = load_image(f'{project_path}/GUVSimul1_VolumeGroundTruth.tif')\n",
    "# Volume transformations [y,x,z]\n",
    "translation = [8,0,0]\n",
    "volume_new_size = [10,20,20]\n",
    "\n",
    "\n",
    "\n",
    "##################################\n",
    "# Rescaling \n",
    "volume = interpolate(volume,volume_new_size)\n",
    "# Correct volume size by padding zeros\n",
    "extra_offset = 1\n",
    "volume = np.pad(volume, (((db.ny-volume.shape[0])//2+extra_offset,(db.ny-volume.shape[0])//2),\n",
    "                            ((db.nx-volume.shape[1])//2+extra_offset,(db.nx-volume.shape[1])//2),\n",
    "                            ((db.nz-volume.shape[2])//2,(db.nz-volume.shape[2])//2)))\n",
    "# Translation \n",
    "for ix,t in enumerate(translation):\n",
    "    volume = np.roll(volume, t, ix)\n",
    "print(f'\\texpected volume dimensions: ({db.ny},{db.nx},{db.nz})   current volume dimensions: {volume.shape}')\n",
    "print(f'\\tLF shape ({db.nu},{db.nv}) ({db.ns},{db.nt})')\n",
    "print('Forward projecting volume')\n",
    "# And forward project\n",
    "volume_vec = volume.reshape(db.nvoxels)\n",
    "image_vec = A_operator.matvec(volume_vec)\n",
    "\n",
    "# Reshape result\n",
    "image_views_2D = np.reshape(image_vec, (db.nu*db.ns, db.nv*db.nt))\n",
    "lf = LightField(image_views_2D, db.nu, db.nv, db.ns, db.nt,\n",
    "                          representation = LightField.TILED_SUBAPERTURE)\n",
    "# Generate LF image\n",
    "image_lenslets_2D = lf.asimage(representation = LightField.TILED_LENSLET)\n",
    "\n",
    "# Show image\n",
    "plt.clf()\n",
    "plt.figure(figsize=(10,30))\n",
    "plt.subplot(1,3,1)\n",
    "plt.imshow(MIP(volume), cmap='gray')\n",
    "plt.title('Volume MIP')\n",
    "plt.subplot(1,3,2)\n",
    "plt.imshow(image_views_2D, cmap='gray')\n",
    "plt.title('LF sub-aperture image')\n",
    "plt.subplot(1,3,3)\n",
    "plt.imshow(image_lenslets_2D, cmap='gray')\n",
    "plt.title('LF lenslet image')\n",
    "plt.show()\n",
    "\n",
    "print(f'Projetcion saved to: \\n{project_path}/Simulated_WaveOptics_LF.tif')\n",
    "save_image(f'{project_path}/Simulated_WaveOptics_LF.tif', image_lenslets_2D, dtype=np.float32)\n",
    "# save_image(f'{project_path}/Radiometry_WaveOptics.tif', image_lenslets_2D, dtype=np.float32)\n",
    "# save_image(f'{project_path}/Dark_Frame_WaveOptics.tif', image_lenslets_2D, dtype=np.float32)"
   ]
  },
  {
   "cell_type": "code",
   "execution_count": null,
   "metadata": {},
   "outputs": [],
   "source": [
    "## Deconvolve volume\n",
    "max_iter = 20\n",
    "conv_thresh = 1e-6\n",
    "\n",
    "# Both ray and wave optics\n",
    "reconstructions = []\n",
    "images_to_process = [image_views_2D]\n",
    "b_vec = np.reshape(img, np.prod(img.shape))\n",
    "\n",
    "# Deconvolution\n",
    "from lflib.solvers.richardson_lucy import richardson_lucy_reconstruction\n",
    "x_vec = richardson_lucy_reconstruction(A_operator, b_vec,\n",
    "                                        Rtol = conv_thresh,\n",
    "                                        max_iter = max_iter,\n",
    "                                        beta = 0.0,\n",
    "                                        sigmaSq = 0.0)\n",
    "\n",
    "# Turn back to volume shape\n",
    "vol_recon = np.reshape(x_vec, (db.ny, db.nx, db.nz))\n",
    "    \n",
    "# And show results\n",
    "mip_gt = MIP(volume,[1,1,1])\n",
    "plt.clf()\n",
    "plt.figure(figsize=(20,20))\n",
    "plt.subplot(1,2,1)\n",
    "plt.imshow(mip_gt)\n",
    "plt.title('GT volume')\n",
    "mip_pred = MIP(vol_recon, [1,1,1])\n",
    "plt.subplot(1,2,2)\n",
    "plt.imshow(mip_pred)\n",
    "plt.title(f'RL recon {max_iter} iterations')\n",
    "plt.show()\n",
    "\n",
    "print(f'GT and recon saved to: {project_path} as vol_gt.tif and vol_recon.tiv')\n",
    "save_image(f'{project_path}/vol_recon_{max_iter}iter.tif', vol_recon, dtype=np.float32)\n",
    "save_image(f'{project_path}/vol_gt.tif', volume, dtype=np.float32)"
   ]
  }
 ],
 "metadata": {
  "kernelspec": {
   "display_name": "Python 3 (ipykernel)",
   "language": "python",
   "name": "python3"
  },
  "language_info": {
   "codemirror_mode": {
    "name": "ipython",
    "version": 3
   },
   "file_extension": ".py",
   "mimetype": "text/x-python",
   "name": "python",
   "nbconvert_exporter": "python",
   "pygments_lexer": "ipython3",
   "version": "3.9.13"
  },
  "vscode": {
   "interpreter": {
    "hash": "adefa1ab0f692421d76c5f439f08fdb2194ecaa0be285eca5571b46bfcc0e371"
   }
  }
 },
 "nbformat": 4,
 "nbformat_minor": 2
}
